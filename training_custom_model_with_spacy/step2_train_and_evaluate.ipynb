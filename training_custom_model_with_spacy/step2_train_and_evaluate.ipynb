{
 "cells": [
  {
   "cell_type": "markdown",
   "metadata": {},
   "source": [
    "# Step 2: Train a spacy model with NE-Samples extracted from TEIs and evaluate the results\n",
    "\n",
    "The notebook used here comes from the workshop \"Information Extraction aus frühneuhochdeutschen Texten\" (https://informationsmodellierung.uni-graz.at/de/neuigkeiten/detail/article/workshop-information-extraction-aus-fruehneuhochdeutschen-texten/). It was modified and adapted for this project."
   ]
  },
  {
   "cell_type": "code",
   "execution_count": null,
   "metadata": {},
   "outputs": [],
   "source": [
    "from spacytei.train import batch_train\n",
    "from spacytei.data_prep import csv_to_traindata, clean_train_data\n"
   ]
  },
  {
   "cell_type": "markdown",
   "metadata": {},
   "source": [
    "## 1) Load a csv with training data\n",
    "an csv was created with `step1_preprocessing_data_for_NER.ipynb`"
   ]
  },
  {
   "cell_type": "code",
   "execution_count": null,
   "metadata": {
    "scrolled": true
   },
   "outputs": [],
   "source": [
    "TRAIN_DATA = csv_to_traindata('output_csv/samples_out_sents.csv')"
   ]
  },
  {
   "cell_type": "code",
   "execution_count": null,
   "metadata": {},
   "outputs": [],
   "source": [
    "len(TRAIN_DATA)"
   ]
  },
  {
   "cell_type": "markdown",
   "metadata": {},
   "source": [
    "## 2) Clean train data\n",
    "\n",
    "remove all empty examples, use only samles with text lenght greater 15"
   ]
  },
  {
   "cell_type": "code",
   "execution_count": null,
   "metadata": {},
   "outputs": [],
   "source": [
    "TRAIN_DATA = clean_train_data(TRAIN_DATA, min_ents=1, min_text_len=15, lang=[])\n",
    "len(TRAIN_DATA)"
   ]
  },
  {
   "cell_type": "code",
   "execution_count": null,
   "metadata": {},
   "outputs": [],
   "source": [
    "print(TRAIN_DATA)"
   ]
  },
  {
   "cell_type": "code",
   "execution_count": null,
   "metadata": {},
   "outputs": [],
   "source": [
    "import pandas as pd"
   ]
  },
  {
   "cell_type": "code",
   "execution_count": null,
   "metadata": {},
   "outputs": [],
   "source": [
    "df = pd.DataFrame(TRAIN_DATA)\n",
    "df.info()\n",
    "df.to_csv('output_csv/samples_out_sents.csv', index=False) #save csv file to output_csv/samples_out_sents.csv\n",
    "\n",
    "# Watch out! Do not overwrite \"samples_out_sents_clean.csv\" or the training won't work! \n",
    "# samples_out_sents_clean.csv was improved by hand, because the automatic function does not work properly"
   ]
  },
  {
   "cell_type": "code",
   "execution_count": null,
   "metadata": {},
   "outputs": [],
   "source": [
    "TRAIN_DATA = csv_to_traindata('output_csv/samples_out_sents_clean.csv') "
   ]
  },
  {
   "cell_type": "markdown",
   "metadata": {},
   "source": [
    "## 3) Train the model\n",
    "\n",
    "Unfortunately I found out that the training data was not converted correctly into the spaCy format, partly some entities were not assigned correctly, these errors had to be fixed by hand in the training data. Some entities in the training data are still not aligned correctly, but they will be ignored during the training process.\n",
    "\n",
    "At the end of the training the F-Score of the new model is obtained. "
   ]
  },
  {
   "cell_type": "code",
   "execution_count": null,
   "metadata": {},
   "outputs": [],
   "source": [
    "batch_train(model='de_core_news_sm', train_data=TRAIN_DATA, output_dir='custom_model')"
   ]
  },
  {
   "cell_type": "markdown",
   "metadata": {},
   "source": [
    "## 4) Evaluation of the German standard models\n",
    "\n",
    "To get a comparison to the standard models, the German standard models of spaCy could be evaluated here. "
   ]
  },
  {
   "cell_type": "code",
   "execution_count": null,
   "metadata": {},
   "outputs": [],
   "source": [
    "import spacy\n",
    "from spacy.gold import GoldParse\n",
    "from spacy.scorer import Scorer\n",
    "\n",
    "def evaluate(ner_model, examples):\n",
    "    scorer = Scorer()\n",
    "    for x in examples:\n",
    "        doc_gold_text = ner_model.make_doc(x[0])\n",
    "        gold = GoldParse(doc_gold_text, entities=x[1]['entities'])\n",
    "        pred_value = ner_model(x[0])\n",
    "        scorer.score(pred_value, gold)\n",
    "    return scorer.scores\n",
    "\n",
    "# example run\n",
    "\n",
    "examples = TRAIN_DATA\n",
    "\n",
    "# evaluate standard models\n",
    "ner_model = spacy.load('de_core_news_sm') # you could put in here an other model like \"de_core_news_md\" to check the F-Score\n",
    "results = evaluate(ner_model, examples)\n",
    "\n",
    "results"
   ]
  },
  {
   "cell_type": "code",
   "execution_count": null,
   "metadata": {},
   "outputs": [],
   "source": []
  },
  {
   "cell_type": "code",
   "execution_count": null,
   "metadata": {},
   "outputs": [],
   "source": []
  }
 ],
 "metadata": {
  "kernelspec": {
   "display_name": "Python 3",
   "language": "python",
   "name": "python3"
  },
  "language_info": {
   "codemirror_mode": {
    "name": "ipython",
    "version": 3
   },
   "file_extension": ".py",
   "mimetype": "text/x-python",
   "name": "python",
   "nbconvert_exporter": "python",
   "pygments_lexer": "ipython3",
   "version": "3.7.3"
  }
 },
 "nbformat": 4,
 "nbformat_minor": 2
}
