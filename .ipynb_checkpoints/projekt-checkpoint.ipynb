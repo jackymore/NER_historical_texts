{
 "cells": [
  {
   "cell_type": "markdown",
   "metadata": {},
   "source": [
    "# Extract NEs from TEIs"
   ]
  },
  {
   "cell_type": "code",
   "execution_count": 1,
   "metadata": {},
   "outputs": [],
   "source": [
    "from spacytei.tei import TeiReader"
   ]
  },
  {
   "cell_type": "code",
   "execution_count": 2,
   "metadata": {},
   "outputs": [],
   "source": [
    "file = 'data/goldstandard_kurz.xml'# path to you file"
   ]
  },
  {
   "cell_type": "code",
   "execution_count": 3,
   "metadata": {},
   "outputs": [],
   "source": [
    "teidoc = TeiReader(file)"
   ]
  },
  {
   "cell_type": "markdown",
   "metadata": {},
   "source": [
    "### map your tei encoding to NE-tags"
   ]
  },
  {
   "cell_type": "code",
   "execution_count": 4,
   "metadata": {},
   "outputs": [],
   "source": [
    "NER_TAG_MAP = {\n",
    "    \"persRef\": \"PER\",\n",
    "    \"placeRef\": \"LOC\",\n",
    "    \"date\": 'DATE'\n",
    "}"
   ]
  },
  {
   "cell_type": "markdown",
   "metadata": {},
   "source": [
    "### define the tags you used for NEs via xpath\n",
    "* be aware that those xpaths are relativ to a parent node (defaults to tei:p)"
   ]
  },
  {
   "cell_type": "code",
   "execution_count": 5,
   "metadata": {},
   "outputs": [],
   "source": [
    "ne_xpath = './/tei:persRef | .//tei:placeRef | .//tei:date'"
   ]
  },
  {
   "cell_type": "code",
   "execution_count": 6,
   "metadata": {},
   "outputs": [],
   "source": [
    "ner_samples = teidoc.extract_ne_offsets(ne_xpath=ne_xpath, NER_TAG_MAP=NER_TAG_MAP)"
   ]
  },
  {
   "cell_type": "code",
   "execution_count": 7,
   "metadata": {},
   "outputs": [
    {
     "data": {
      "text/plain": [
       "[('Wieder zurückerhalten aus der bibliothek des herren kreishauptmanns, freyherrn von Stiebar zu Kröllendorf - in Wien den 14. Novembris 1823. Iohann Leopold Metzger freyherr von Metzburg, k. k hofrath',\n",
       "  {'entities': [(69, 105, 'PER'),\n",
       "    (94, 105, 'LOC'),\n",
       "    (111, 115, 'LOC'),\n",
       "    (120, 138, 'DATE'),\n",
       "    (140, 184, 'PER')]}),\n",
       " ('Niederösterreichischer regierungs-, auch bankodeputazions rath, nieder- und oberösterreichischer landtstand 1718.',\n",
       "  {'entities': [(108, 112, 'DATE')]}),\n",
       " ('D IV 1', {'entities': []}),\n",
       " ('Iohann Georg Mezger von Breysgaw',\n",
       "  {'entities': [(0, 32, 'PER'), (24, 32, 'LOC')]}),\n",
       " ('Scydack: ein kocher luck: ein bogen Tschenzi: ein seiten, Meiran: handtheben miten am bogen. unleserliche Kommentare, die im Nachhinnein eingefügt wurden.',\n",
       "  {'entities': []})]"
      ]
     },
     "execution_count": 7,
     "metadata": {},
     "output_type": "execute_result"
    }
   ],
   "source": [
    "ner_samples[:5]"
   ]
  },
  {
   "cell_type": "markdown",
   "metadata": {},
   "source": [
    "## Extract NEs from TEIs (with sent-splitting)\n",
    "* The samples above are by paragraph. In case of long(er) paragraphs, you could crate NE samples splitted by sents\n",
    "* Sent splitting is done by a spacy model (default 'de_core_news_sm'), so make sure you have spacy and the model you'd like to use properly installed. "
   ]
  },
  {
   "cell_type": "code",
   "execution_count": 8,
   "metadata": {},
   "outputs": [],
   "source": [
    "ner_samples = teidoc.ne_offsets_by_sent(ne_xpath=ne_xpath, NER_TAG_MAP=NER_TAG_MAP)"
   ]
  },
  {
   "cell_type": "markdown",
   "metadata": {},
   "source": [
    "In case the cell above threw an error, complaining about not finding a model, try to\n",
    "* install the german model `!python -m spacy download de`\n",
    "* and pass in the model name to `teidoc.ne_offsets_by_sent(ne_xpath=ne_xpath, NER_TAG_MAP=NER_TAG_MAP, model='de')`"
   ]
  },
  {
   "cell_type": "code",
   "execution_count": 9,
   "metadata": {},
   "outputs": [],
   "source": [
    "# !python -m spacy download de"
   ]
  },
  {
   "cell_type": "code",
   "execution_count": 10,
   "metadata": {},
   "outputs": [],
   "source": [
    "# ner_samples = teidoc.ne_offsets_by_sent(ne_xpath=ne_xpath, NER_TAG_MAP=NER_TAG_MAP, model='de')"
   ]
  },
  {
   "cell_type": "code",
   "execution_count": 24,
   "metadata": {},
   "outputs": [
    {
     "data": {
      "text/plain": [
       "[('Wieder zurückerhalten aus der bibliothek des herren kreishauptmanns, freyherrn von Stiebar zu Kröllendorf - in Wien den 14. Novembris',\n",
       "  {'entities': [(69, 105, 'PER'), (94, 105, 'LOC'), (111, 115, 'LOC')]}),\n",
       " ('1823. Iohann Leopold Metzger freyherr von Metzburg, k. k hofrath',\n",
       "  {'entities': [(6, 50, 'PER')]}),\n",
       " ('Niederösterreichischer regierungs-, auch bankodeputazions rath, nieder- und oberösterreichischer landtstand',\n",
       "  {'entities': []}),\n",
       " ('1718.', {'entities': [(0, 4, 'DATE')]}),\n",
       " ('D IV 1', {'entities': []})]"
      ]
     },
     "execution_count": 24,
     "metadata": {},
     "output_type": "execute_result"
    }
   ],
   "source": [
    "ner_samples[:5]"
   ]
  },
  {
   "cell_type": "markdown",
   "metadata": {},
   "source": [
    "## Extract NEs from TEIs in bulk\n",
    "and save results to file"
   ]
  },
  {
   "cell_type": "code",
   "execution_count": 12,
   "metadata": {},
   "outputs": [],
   "source": [
    "import os\n",
    "import glob"
   ]
  },
  {
   "cell_type": "code",
   "execution_count": 13,
   "metadata": {},
   "outputs": [],
   "source": [
    "from spacytei.tei_process import teis_to_traindata, teis_to_traindata_sents"
   ]
  },
  {
   "cell_type": "code",
   "execution_count": 14,
   "metadata": {},
   "outputs": [],
   "source": [
    "tei_dir = './data/Dipko/XML_TEI' # define path to directory containing TEI's"
   ]
  },
  {
   "cell_type": "code",
   "execution_count": 15,
   "metadata": {},
   "outputs": [],
   "source": [
    "files = glob.glob(\"{}/*.xml\".format(tei_dir)) # store list of relative file names of TEI's"
   ]
  },
  {
   "cell_type": "code",
   "execution_count": 16,
   "metadata": {},
   "outputs": [],
   "source": [
    "samples = teis_to_traindata(files, parent_node='.//tei:body//tei:p', ne_xpath=ne_xpath, NER_TAG_MAP=NER_TAG_MAP)"
   ]
  },
  {
   "cell_type": "code",
   "execution_count": 17,
   "metadata": {},
   "outputs": [],
   "source": [
    "import pandas as pd"
   ]
  },
  {
   "cell_type": "code",
   "execution_count": 18,
   "metadata": {},
   "outputs": [],
   "source": [
    "df = pd.DataFrame(samples, columns=['text', 'entities'])"
   ]
  },
  {
   "cell_type": "code",
   "execution_count": 19,
   "metadata": {},
   "outputs": [
    {
     "name": "stdout",
     "output_type": "stream",
     "text": [
      "<class 'pandas.core.frame.DataFrame'>\n",
      "RangeIndex: 412 entries, 0 to 411\n",
      "Data columns (total 2 columns):\n",
      "text        412 non-null object\n",
      "entities    412 non-null object\n",
      "dtypes: object(2)\n",
      "memory usage: 6.5+ KB\n"
     ]
    }
   ],
   "source": [
    "df.info()"
   ]
  },
  {
   "cell_type": "code",
   "execution_count": 20,
   "metadata": {},
   "outputs": [],
   "source": [
    "df.to_csv('./out/samples_out.csv', index=False)"
   ]
  },
  {
   "cell_type": "code",
   "execution_count": 21,
   "metadata": {},
   "outputs": [],
   "source": [
    "samples = teis_to_traindata_sents(files, parent_node='.//tei:body//tei:p', ne_xpath=ne_xpath, NER_TAG_MAP=NER_TAG_MAP)"
   ]
  },
  {
   "cell_type": "code",
   "execution_count": 22,
   "metadata": {},
   "outputs": [
    {
     "name": "stdout",
     "output_type": "stream",
     "text": [
      "<class 'pandas.core.frame.DataFrame'>\n",
      "RangeIndex: 2067 entries, 0 to 2066\n",
      "Data columns (total 2 columns):\n",
      "0    2067 non-null object\n",
      "1    2067 non-null object\n",
      "dtypes: object(2)\n",
      "memory usage: 32.4+ KB\n"
     ]
    }
   ],
   "source": [
    "df = pd.DataFrame(samples)\n",
    "df.info()\n",
    "df.to_csv('./out/samples_out_sents.csv', index=False)"
   ]
  },
  {
   "cell_type": "code",
   "execution_count": null,
   "metadata": {},
   "outputs": [],
   "source": []
  }
 ],
 "metadata": {
  "kernelspec": {
   "display_name": "Python 3",
   "language": "python",
   "name": "python3"
  },
  "language_info": {
   "codemirror_mode": {
    "name": "ipython",
    "version": 3
   },
   "file_extension": ".py",
   "mimetype": "text/x-python",
   "name": "python",
   "nbconvert_exporter": "python",
   "pygments_lexer": "ipython3",
   "version": "3.7.3"
  }
 },
 "nbformat": 4,
 "nbformat_minor": 2
}
