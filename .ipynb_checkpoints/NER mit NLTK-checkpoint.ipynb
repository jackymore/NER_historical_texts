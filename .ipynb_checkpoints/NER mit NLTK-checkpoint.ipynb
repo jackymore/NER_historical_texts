{
 "cells": [
  {
   "cell_type": "code",
   "execution_count": 1,
   "metadata": {},
   "outputs": [],
   "source": [
    "import nltk\n",
    "from bs4 import BeautifulSoup\n",
    "import codecs\n",
    "from HanTa import HanoverTagger as ht"
   ]
  },
  {
   "cell_type": "code",
   "execution_count": 2,
   "metadata": {},
   "outputs": [],
   "source": [
    "#open document and use beautiful soup for parsing the xml file\n",
    "\n",
    "with codecs.open(\"data/TEI/Reisebericht_testdata.xml\", \"r\", \"utf-8\") as file:\n",
    "    soup = BeautifulSoup(file, \"xml\")"
   ]
  },
  {
   "cell_type": "code",
   "execution_count": 3,
   "metadata": {},
   "outputs": [
    {
     "name": "stdout",
     "output_type": "stream",
     "text": [
      "['Ist', 'derowegen', 'endtlich', 'der', 'wolledl', 'gebohren', 'unnd', 'gestrenng', 'herr', 'Iohan', 'Rudolph', 'Schmid', 'zum', 'Schwarzenhorn', ',', 'ihr', 'röm', '.']\n"
     ]
    }
   ],
   "source": [
    "#using the text inside the element body\n",
    "text = soup.body.get_text()\n",
    "sentences = nltk.sent_tokenize(text, language='german')\n",
    "tokenized_sent = nltk.tokenize.word_tokenize(sentences[100], language='german')\n",
    "print(tokenized_sent)"
   ]
  },
  {
   "cell_type": "code",
   "execution_count": 4,
   "metadata": {},
   "outputs": [],
   "source": [
    "tagger = ht.HanoverTagger('morphmodel_ger.pgz')"
   ]
  },
  {
   "cell_type": "code",
   "execution_count": 5,
   "metadata": {},
   "outputs": [
    {
     "name": "stdout",
     "output_type": "stream",
     "text": [
      "('Fachmarkt', 'NN')\n"
     ]
    }
   ],
   "source": [
    "print(tagger.analyze('Fachmarkt'))"
   ]
  },
  {
   "cell_type": "code",
   "execution_count": 6,
   "metadata": {},
   "outputs": [
    {
     "name": "stdout",
     "output_type": "stream",
     "text": [
      "[('Ist', 'sein', 'VAFIN'), ('derowegen', 'derowegen', 'ADV'), ('endtlich', 'endtlich', 'ADJD'), ('der', 'der', 'ART'), ('wolledl', 'Wolledl', 'NE'), ('gebohren', 'bohren', 'VVPP'), ('unnd', 'unnd', 'FM'), ('gestrenng', 'Gestrenng', 'NE'), ('herr', 'Herr', 'NE'), ('Iohan', 'Iohan', 'NE'), ('Rudolph', 'Rudolph', 'NE'), ('Schmid', 'Schmid', 'NE'), ('zum', 'zum', 'APPRART'), ('Schwarzenhorn', 'Schwarzenhorn', 'NE'), (',', '--', '$,'), ('ihr', 'ihr', 'PPOSAT'), ('röm', 'röm', 'FM'), ('.', '--', '$.')]\n"
     ]
    }
   ],
   "source": [
    "tags = tagger.tag_sent(tokenized_sent)\n",
    "print(tags)"
   ]
  },
  {
   "cell_type": "code",
   "execution_count": 7,
   "metadata": {},
   "outputs": [
    {
     "name": "stdout",
     "output_type": "stream",
     "text": [
      "[('Ist', 'sein', 'VAFIN'), ('derowegen', 'derowegen', 'ADV'), ('endtlich', 'endtlich', 'ADJD'), ('der', 'der', 'ART'), ('wolledl', 'Wolledl', 'NE'), ('gebohren', 'bohren', 'VVPP'), ('unnd', 'unnd', 'FM'), ('gestrenng', 'Gestrenng', 'NE'), ('herr', 'Herr', 'NE'), ('Iohan', 'Iohan', 'NE'), ('Rudolph', 'Rudolph', 'NE'), ('Schmid', 'Schmid', 'NE'), ('zum', 'zum', 'APPRART'), ('Schwarzenhorn', 'Schwarzenhorn', 'NE'), (',', '--', '$,'), ('ihr', 'ihr', 'PPOSAT'), ('röm', 'röm', 'FM'), ('.', '--', '$.')]\n"
     ]
    }
   ],
   "source": [
    "print(tags)"
   ]
  },
  {
   "cell_type": "code",
   "execution_count": 8,
   "metadata": {},
   "outputs": [],
   "source": [
    "from pprint import pprint"
   ]
  },
  {
   "cell_type": "code",
   "execution_count": 9,
   "metadata": {},
   "outputs": [
    {
     "name": "stdout",
     "output_type": "stream",
     "text": [
      "[('Sye', 359),\n",
      " ('Dan', 240),\n",
      " ('Bey', 157),\n",
      " ('Under', 86),\n",
      " ('Vil', 73),\n",
      " ('Auß', 72),\n",
      " ('Den', 67),\n",
      " ('Eß', 59),\n",
      " ('Alda', 54),\n",
      " ('Sultan', 51)]\n"
     ]
    },
    {
     "data": {
      "text/plain": [
       "<Figure size 640x480 with 1 Axes>"
      ]
     },
     "metadata": {},
     "output_type": "display_data"
    },
    {
     "data": {
      "text/plain": [
       "<matplotlib.axes._subplots.AxesSubplot at 0x1b76704f1d0>"
      ]
     },
     "execution_count": 9,
     "metadata": {},
     "output_type": "execute_result"
    }
   ],
   "source": [
    "nouns = []\n",
    "sentences_tok = [nltk.tokenize.word_tokenize(sent) for sent in sentences]\n",
    "for sent in sentences_tok:\n",
    "    tags = tagger.tag_sent(sent)\n",
    "    nouns_from_sent =  [lemma for (word,lemma,pos) in tags if pos == \"NE\"]\n",
    "    nouns.extend(nouns_from_sent)\n",
    "    \n",
    "fdist = nltk.FreqDist(nouns)\n",
    "\n",
    "pprint(fdist.most_common(10))\n",
    "fdist.plot(50,cumulative=False)"
   ]
  },
  {
   "cell_type": "code",
   "execution_count": 10,
   "metadata": {},
   "outputs": [
    {
     "ename": "NameError",
     "evalue": "name 'tokens' is not defined",
     "output_type": "error",
     "traceback": [
      "\u001b[1;31m---------------------------------------------------------------------------\u001b[0m",
      "\u001b[1;31mNameError\u001b[0m                                 Traceback (most recent call last)",
      "\u001b[1;32m<ipython-input-10-ba3b731519d3>\u001b[0m in \u001b[0;36m<module>\u001b[1;34m\u001b[0m\n\u001b[1;32m----> 1\u001b[1;33m \u001b[0mtagged\u001b[0m \u001b[1;33m=\u001b[0m \u001b[0mnltk\u001b[0m\u001b[1;33m.\u001b[0m\u001b[0mpos_tag\u001b[0m\u001b[1;33m(\u001b[0m\u001b[0mtokens\u001b[0m\u001b[1;33m)\u001b[0m\u001b[1;33m\u001b[0m\u001b[1;33m\u001b[0m\u001b[0m\n\u001b[0m\u001b[0;32m      2\u001b[0m \u001b[0mtagged\u001b[0m\u001b[1;33m[\u001b[0m\u001b[1;36m0\u001b[0m\u001b[1;33m:\u001b[0m\u001b[1;36m10\u001b[0m\u001b[1;33m]\u001b[0m\u001b[1;33m\u001b[0m\u001b[1;33m\u001b[0m\u001b[0m\n",
      "\u001b[1;31mNameError\u001b[0m: name 'tokens' is not defined"
     ]
    }
   ],
   "source": [
    "tagged = nltk.pos_tag(tokens)\n",
    "tagged[0:10]"
   ]
  },
  {
   "cell_type": "code",
   "execution_count": null,
   "metadata": {},
   "outputs": [],
   "source": []
  },
  {
   "cell_type": "code",
   "execution_count": 11,
   "metadata": {},
   "outputs": [
    {
     "ename": "NameError",
     "evalue": "name 'tagged' is not defined",
     "output_type": "error",
     "traceback": [
      "\u001b[1;31m---------------------------------------------------------------------------\u001b[0m",
      "\u001b[1;31mNameError\u001b[0m                                 Traceback (most recent call last)",
      "\u001b[1;32m<ipython-input-11-5aa0ae5934f1>\u001b[0m in \u001b[0;36m<module>\u001b[1;34m\u001b[0m\n\u001b[1;32m----> 1\u001b[1;33m \u001b[0mentities\u001b[0m \u001b[1;33m=\u001b[0m \u001b[0mnltk\u001b[0m\u001b[1;33m.\u001b[0m\u001b[0mchunk\u001b[0m\u001b[1;33m.\u001b[0m\u001b[0mne_chunk\u001b[0m\u001b[1;33m(\u001b[0m\u001b[0mtagged\u001b[0m\u001b[1;33m)\u001b[0m\u001b[1;33m\u001b[0m\u001b[1;33m\u001b[0m\u001b[0m\n\u001b[0m\u001b[0;32m      2\u001b[0m \u001b[0mprint\u001b[0m\u001b[1;33m(\u001b[0m\u001b[0mentities\u001b[0m\u001b[1;33m)\u001b[0m\u001b[1;33m\u001b[0m\u001b[1;33m\u001b[0m\u001b[0m\n",
      "\u001b[1;31mNameError\u001b[0m: name 'tagged' is not defined"
     ]
    }
   ],
   "source": [
    "entities = nltk.chunk.ne_chunk(tagged)\n",
    "print(entities)"
   ]
  },
  {
   "cell_type": "code",
   "execution_count": null,
   "metadata": {},
   "outputs": [],
   "source": []
  },
  {
   "cell_type": "code",
   "execution_count": null,
   "metadata": {},
   "outputs": [],
   "source": []
  }
 ],
 "metadata": {
  "kernelspec": {
   "display_name": "Python 3",
   "language": "python",
   "name": "python3"
  },
  "language_info": {
   "codemirror_mode": {
    "name": "ipython",
    "version": 3
   },
   "file_extension": ".py",
   "mimetype": "text/x-python",
   "name": "python",
   "nbconvert_exporter": "python",
   "pygments_lexer": "ipython3",
   "version": "3.7.3"
  }
 },
 "nbformat": 4,
 "nbformat_minor": 2
}
